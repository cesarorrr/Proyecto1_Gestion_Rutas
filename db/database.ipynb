{
 "cells": [
  {
   "cell_type": "code",
   "execution_count": 1,
   "metadata": {},
   "outputs": [],
   "source": [
    "import sqlite3, os\n",
    "import pandas as pd"
   ]
  },
  {
   "cell_type": "code",
   "execution_count": 2,
   "metadata": {},
   "outputs": [],
   "source": [
    "conn = sqlite3.connect(r\"logistics.db\")\n",
    "cursor = conn.cursor()"
   ]
  },
  {
   "cell_type": "markdown",
   "metadata": {},
   "source": [
    "CREATE TABLES"
   ]
  },
  {
   "cell_type": "code",
   "execution_count": null,
   "metadata": {},
   "outputs": [],
   "source": [
    "cursor.execute(\"\"\"\n",
    "    CREATE TABLE IF NOT EXISTS clientes (\n",
    "    cif_empresa VARCHAR(50) NOT NULL PRIMARY KEY,\n",
    "    nombre_cliente VARCHAR(100),\n",
    "    direccion VARCHAR(100),\n",
    "    telefono_cliente VARCHAR(20),\n",
    "    email_cliente VARCHAR(100)\n",
    "    )\n",
    "\"\"\")\n",
    "\n"
   ]
  },
  {
   "cell_type": "code",
   "execution_count": null,
   "metadata": {},
   "outputs": [],
   "source": [
    "cursor.execute(\"\"\"\n",
    "    CREATE TABLE IF NOT EXISTS pedidos (\n",
    "    id_pedido INTEGER NOT NULL,\n",
    "    cif_empresa VARCHAR(50) NOT NULL,\n",
    "    id_producto INTEGER NOT NULL,\n",
    "    destino VARCHAR(100),\n",
    "    provincia VARCHAR(50),\n",
    "    cantidad INT,\n",
    "    fecha_pedido DATE,\n",
    "    fecha_caducidad DATE,\n",
    "    fecha_entrega_estimada DATE,\n",
    "    estado VARCHAR(50),\n",
    "    fecha_entregado DATETIME,\n",
    "    PRIMARY KEY (id_pedido, cif_empresa, id_producto),\n",
    "    FOREIGN KEY (provincia) REFERENCES destinos (provincia),\n",
    "    FOREIGN KEY (cif_empresa) REFERENCES clientes (cif_empresa),\n",
    "    FOREIGN KEY (id_producto) REFERENCES productos (id_producto)\n",
    "    )\n",
    "\"\"\")\n",
    "\n"
   ]
  },
  {
   "cell_type": "code",
   "execution_count": null,
   "metadata": {},
   "outputs": [],
   "source": [
    "cursor.execute(\"\"\"\n",
    "    CREATE TABLE IF NOT EXISTS productos (\n",
    "    id_producto INTEGER NOT NULL PRIMARY KEY AUTOINCREMENT,\n",
    "    nombre_producto VARCHAR(100),\n",
    "    precio INT,\n",
    "    tiempo_fabricacion INT,\n",
    "    caducidad INT,\n",
    "    categoria VARCHAR(50)\n",
    "    )\n",
    "\"\"\")\n",
    "\n"
   ]
  },
  {
   "cell_type": "code",
   "execution_count": null,
   "metadata": {},
   "outputs": [],
   "source": [
    "cursor.execute(\"\"\"\n",
    "    CREATE TABLE IF NOT EXISTS destinos (\n",
    "    provincia VARCHAR(100) NOT NULL,\n",
    "    latitud FLOAT NOT NULL,\n",
    "    longitud FLOAT NOT NULL,\n",
    "    PRIMARY KEY (provincia,latitud,longitud),\n",
    "    FOREIGN KEY (provincia) REFERENCES clientes (direccion)\n",
    "    )\n",
    "\"\"\")"
   ]
  },
  {
   "cell_type": "code",
   "execution_count": null,
   "metadata": {},
   "outputs": [],
   "source": [
    "cursor.execute(\"\"\"\n",
    "    CREATE TABLE IF NOT EXISTS camiones (\n",
    "    id_camion INTEGER NOT NULL,\n",
    "    id_pedido INTEGER NOT NULL,\n",
    "    id_producto INTEGER NOT NULL,\n",
    "    cantidad_pedido INTEGER NOT NULL,\n",
    "    destino VARCHAR(50) NOT NULL,\n",
    "    ruta VARCHAR(50),\n",
    "    PRIMARY KEY (id_camion,id_pedido,id_producto,cantidad_pedido),\n",
    "    FOREIGN KEY (id_pedido) REFERENCES pedidos(id_pedido),\n",
    "    FOREIGN KEY (id_producto) REFERENCES productos(id_producto),\n",
    "    FOREIGN KEY (destino) REFERENCES destinos(provincia)\n",
    "    )\n",
    "\"\"\")"
   ]
  },
  {
   "cell_type": "markdown",
   "metadata": {},
   "source": [
    "INSERT VALUES"
   ]
  },
  {
   "cell_type": "code",
   "execution_count": 11,
   "metadata": {},
   "outputs": [],
   "source": [
    "path = r\"..\\data\"\n",
    "\n",
    "for csv in os.listdir(path):\n",
    "    df = pd.read_csv(os.path.join(path, csv), sep=\",\") \n",
    "    df.to_sql(csv.split(\".\")[0], conn, if_exists='replace', index=False)\n"
   ]
  },
  {
   "cell_type": "markdown",
   "metadata": {},
   "source": [
    "CREAR PEDIDOS RANDOM"
   ]
  },
  {
   "cell_type": "code",
   "execution_count": 6,
   "metadata": {},
   "outputs": [],
   "source": [
    "import random, csv\n",
    "from datetime import datetime, timedelta\n",
    "\n",
    "with open(\"200_pedidos.csv\", mode='w', newline='', encoding='utf-8') as file:\n",
    "    writer = csv.writer(file)\n",
    "\n",
    "    writer.writerow([\n",
    "        \"id_pedido\", \"cif_empresa\", \"id_producto\", \"nombre_producto\", \"destino\", \"provincia\", \"cantidad\", \n",
    "        \"fecha_pedido\", \"fecha_caducidad\", \"fecha_entrega_estimada\", \"estado\", \"fecha_entregado\"\n",
    "    ])\n",
    "\n",
    "    # Simulación de inserciones en pedidos\n",
    "    for i in range(200):\n",
    "        # Generar un ID de pedido único\n",
    "        id_pedido = random.randint(1000000, 9999999)\n",
    "        \n",
    "        # Seleccionar cliente aleatorio\n",
    "        client_id = cursor.execute(\n",
    "            \"SELECT cif_empresa FROM clientes ORDER BY RANDOM() LIMIT 1\"\n",
    "        ).fetchone()\n",
    "        if client_id:  # Asegurarse de que no sea None\n",
    "            client_id = client_id[0]\n",
    "        \n",
    "        # Obtener el destino basado en el cliente\n",
    "        destino = cursor.execute(\n",
    "            \"\"\"\n",
    "            SELECT provincia, latitud, longitud \n",
    "            FROM destinos \n",
    "            WHERE provincia = (SELECT direccion FROM clientes WHERE cif_empresa = ?)\n",
    "            \"\"\", (client_id,)\n",
    "        ).fetchone()\n",
    "        \n",
    "        if destino:\n",
    "            provincia, latitud, longitud = destino\n",
    "\n",
    "        # Seleccionar un producto aleatorio\n",
    "        producto = cursor.execute(\n",
    "            \"SELECT * FROM productos ORDER BY RANDOM() LIMIT 1\"\n",
    "        ).fetchone()\n",
    "        if producto:\n",
    "            id_producto = producto[0]\n",
    "            nombre_producto = producto[1]\n",
    "            tiempo_fabricacion = producto[3]\n",
    "            caducidad = producto[4]\n",
    "        \n",
    "        # Generar datos del pedido\n",
    "        cantidad = random.randint(550, 990)\n",
    "        fecha_pedido = datetime.today()\n",
    "        fecha_caducidad = fecha_pedido + timedelta(days=caducidad)\n",
    "        fecha_entrega_estimada = fecha_caducidad - timedelta(days=3)\n",
    "        estado = \"En fabricación\"\n",
    "        fecha_entregado = None\n",
    "\n",
    "        writer.writerow(\n",
    "            [\n",
    "                id_pedido, client_id, id_producto, nombre_producto, f\"{latitud}, {longitud}\", provincia, cantidad, \n",
    "                fecha_pedido.strftime(\"%Y-%m-%d\"), \n",
    "                fecha_caducidad.strftime(\"%Y-%m-%d\"), \n",
    "                fecha_entrega_estimada.strftime(\"%Y-%m-%d\"), \n",
    "                estado, fecha_entregado\n",
    "            ]\n",
    "        )\n",
    "\n",
    "        # # Insertar en la tabla de pedidos\n",
    "        # cursor.execute(\"\"\"\n",
    "        #     INSERT INTO pedidos (\n",
    "        #         id_pedido, cif_empresa, id_producto, nombre_producto, destino, provincia, cantidad, \n",
    "        #         fecha_pedido, fecha_caducidad, fecha_entrega_estimada, \n",
    "        #         estado, fecha_entregado\n",
    "        #     ) VALUES (?, ?, ?, ?, ?, ?, ?, ?, ?, ?, ?, ?)\n",
    "        # \"\"\", (\n",
    "        #     id_pedido, client_id, id_producto,\n",
    "        #     nombre_producto,f\"{latitud}, {longitud}\", provincia, cantidad, \n",
    "        #     fecha_pedido.strftime(\"%Y-%m-%d\"), \n",
    "        #     fecha_caducidad.strftime(\"%Y-%m-%d\"), \n",
    "        #     fecha_entrega_estimada.strftime(\"%Y-%m-%d\"), \n",
    "        #     estado, fecha_entregado\n",
    "        # ))\n",
    "\n",
    "    # Confirmar cambios\n",
    "    conn.commit()"
   ]
  },
  {
   "cell_type": "markdown",
   "metadata": {},
   "source": [
    "_______________________________________________________________________________________________________________________________________________________________________"
   ]
  },
  {
   "cell_type": "markdown",
   "metadata": {},
   "source": [
    "INTERACTUAR AMB BDD"
   ]
  },
  {
   "cell_type": "code",
   "execution_count": null,
   "metadata": {},
   "outputs": [],
   "source": [
    "import os, sqlite3\n",
    "\n",
    "def connectar_BDD():\n",
    "    ruta_bd = f\"{os.getcwd()}/logistics.db\"\n",
    "    try:\n",
    "        connexio = sqlite3.connect(ruta_bd)\n",
    "        cursor = connexio.cursor()\n",
    "    except Exception as e:\n",
    "        print(e)\n",
    "    return connexio, cursor\n",
    "\n",
    "def guardar_tancar_BDD(connexio):\n",
    "    try:\n",
    "        connexio.commit()\n",
    "        connexio.close()\n",
    "        return True\n",
    "    except Exception as e:\n",
    "        print(e)\n",
    "        return False\n",
    "\n",
    "connexio, cursor = connectar_BDD()\n",
    "query = str(input(\"Logistic>> \"))\n",
    "while query != \"q\":\n",
    "    if query == \"cls\":\n",
    "        os.system(\"cls\")\n",
    "    else:\n",
    "        try:\n",
    "            cursor.execute(query)\n",
    "            for line in cursor.fetchall():\n",
    "                print(' | '.join(str(value) for value in line))\n",
    "        except Exception as e:\n",
    "            print(e)\n",
    "    query = str(input(\"Logistic>> \"))\n",
    "guardar_tancar_BDD(connexio)\n"
   ]
  }
 ],
 "metadata": {
  "kernelspec": {
   "display_name": "Python 3",
   "language": "python",
   "name": "python3"
  },
  "language_info": {
   "codemirror_mode": {
    "name": "ipython",
    "version": 3
   },
   "file_extension": ".py",
   "mimetype": "text/x-python",
   "name": "python",
   "nbconvert_exporter": "python",
   "pygments_lexer": "ipython3",
   "version": "3.13.0"
  }
 },
 "nbformat": 4,
 "nbformat_minor": 2
}
